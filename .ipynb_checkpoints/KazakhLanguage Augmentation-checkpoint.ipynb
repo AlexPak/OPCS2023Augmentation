{
 "cells": [
  {
   "cell_type": "markdown",
   "metadata": {
    "id": "a3WFA0jfDNb7"
   },
   "source": [
    "# 1. Инициализация"
   ]
  },
  {
   "cell_type": "code",
   "execution_count": 11,
   "metadata": {
    "id": "8YetQbzzDH3V"
   },
   "outputs": [],
   "source": [
    "#!pip install openai\n",
    "#!pip install pandas_profiling"
   ]
  },
  {
   "cell_type": "code",
   "execution_count": 14,
   "metadata": {},
   "outputs": [],
   "source": [
    "import numpy as np\n",
    "import pandas as pd\n",
    "import os\n",
    "import openai\n",
    "from tqdm import tqdm\n"
   ]
  },
  {
   "cell_type": "code",
   "execution_count": 3,
   "metadata": {},
   "outputs": [
    {
     "name": "stdout",
     "output_type": "stream",
     "text": [
      "Мен әлі күнге дейін картамды күтіп тұрамын ба?\n",
      "\n",
      "Егер картам 2 аптадан кейін де келмесе не істей аламын?\n",
      "\n",
      "Мен бір аптадан астам уақыт күттім. Карта әлі де келе ме?\n",
      "\n",
      "Менің картам жеткізу процесінде болған кезде оны қадағалай аламын ба?\n",
      "\n",
      "Мен картамды қалай білемін, жоғалып кетті ме екенін?\n",
      "\n",
      "Жаңа картамды қашан жібердің?\n",
      "\n",
      "Жеткізу кезінде карта туралы мәлімет болады ма?\n",
      "\n",
      "Жаңа картамды әлі алған жоқ болсам не істеу керек?\n",
      "\n",
      "Менің картамдағы пакеттерде ізденуі бар ма?\n",
      "\n",
      "Мен картамды тапсырдым, бірақ ол әлі де мұнда жоқ.\n",
      "\n"
     ]
    }
   ],
   "source": [
    "lines = None\n",
    "with open(\"./dataset.txt\", encoding=\"utf-8\") as fh:\n",
    "    lines = fh.readlines()\n",
    "for line in lines[:10]:\n",
    "    print(line) "
   ]
  },
  {
   "cell_type": "code",
   "execution_count": 4,
   "metadata": {
    "id": "jwidjL0aGYEv"
   },
   "outputs": [],
   "source": []
  },
  {
   "cell_type": "markdown",
   "metadata": {
    "id": "LUsm6Yv9Gnx8"
   },
   "source": [
    "# Работа с OpenGPT"
   ]
  },
  {
   "cell_type": "code",
   "execution_count": 5,
   "metadata": {
    "id": "MylEM0GfGqC4"
   },
   "outputs": [],
   "source": [
    "# Подставляем API ключ для ChatGPT\n",
    "openai.organization = \"org-XXX\"\n",
    "openai.api_key = (\"API-KEY\")"
   ]
  },
  {
   "cell_type": "code",
   "execution_count": 6,
   "metadata": {
    "id": "nCHMU3AXJE2_"
   },
   "outputs": [],
   "source": [
    "# Константы текста аугментации\n",
    "\n",
    "def get_text_for_aug(text, label):\n",
    "    prompt = \"Келесі сөйлем '{category}' санатына жатады, соған ұқсас жаңа сөйлем құруға (тек бір сөйлемді жазуға), парафразалауға немесе басқа әдістерді қолдануға болады.\".format(category = label) + os.linesep\n",
    "    return prompt + text + os.linesep\n",
    "        "
   ]
  },
  {
   "cell_type": "code",
   "execution_count": 7,
   "metadata": {
    "id": "QLfmp8XDOyD8"
   },
   "outputs": [],
   "source": [
    "def get_response_gpt(text):\n",
    "    completion = openai.ChatCompletion.create(\n",
    "    model=\"gpt-3.5-turbo\",\n",
    "    messages=[\n",
    "      {\"role\": \"system\", \"content\": \"You are a helpful assistant that rephrase text and make sentence smooth.\"},\n",
    "      {\"role\": \"user\", \"content\": text}\n",
    "    ],\n",
    "    max_tokens = 2500,\n",
    "    temperature = 0.9,\n",
    "    frequency_penalty = 1.1\n",
    "    )\n",
    "    return completion"
   ]
  },
  {
   "cell_type": "code",
   "execution_count": 8,
   "metadata": {},
   "outputs": [
    {
     "name": "stderr",
     "output_type": "stream",
     "text": [
      "100%|████████████████████████████████████████████████████████████████████████████████| 151/151 [06:34<00:00,  2.61s/it]\n"
     ]
    }
   ],
   "source": [
    "responses = []\n",
    "for line in tqdm(lines):\n",
    "    query = get_text_for_aug(line,\"несие картасы қызметі\")\n",
    "    responses.append(get_response_gpt(query))\n",
    "df = pd.DataFrame(responses)\n",
    "df.to_excel(\"augmented.xlsx\")"
   ]
  }
 ],
 "metadata": {
  "colab": {
   "collapsed_sections": [
    "a3WFA0jfDNb7"
   ],
   "provenance": []
  },
  "kernelspec": {
   "display_name": "Python 3 (ipykernel)",
   "language": "python",
   "name": "python3"
  },
  "language_info": {
   "codemirror_mode": {
    "name": "ipython",
    "version": 3
   },
   "file_extension": ".py",
   "mimetype": "text/x-python",
   "name": "python",
   "nbconvert_exporter": "python",
   "pygments_lexer": "ipython3",
   "version": "3.10.0"
  }
 },
 "nbformat": 4,
 "nbformat_minor": 1
}
